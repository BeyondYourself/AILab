{
 "cells": [
  {
   "cell_type": "markdown",
   "metadata": {},
   "source": [
    "# 用 Tensorflow 逻辑回归预测 MNIST\n",
    "\n",
    "- input_data.py 读取 MNIST 中的数据"
   ]
  },
  {
   "cell_type": "code",
   "execution_count": 34,
   "metadata": {},
   "outputs": [],
   "source": [
    "import tensorflow as tf\n",
    "import input_data"
   ]
  },
  {
   "cell_type": "code",
   "execution_count": 2,
   "metadata": {},
   "outputs": [
    {
     "name": "stdout",
     "output_type": "stream",
     "text": [
      "Successfully downloaded train-images-idx3-ubyte.gz 9912422 bytes.\n",
      "Extracting data/train-images-idx3-ubyte.gz\n",
      "Successfully downloaded train-labels-idx1-ubyte.gz 28881 bytes.\n",
      "Extracting data/train-labels-idx1-ubyte.gz\n",
      "Successfully downloaded t10k-images-idx3-ubyte.gz 1648877 bytes.\n",
      "Extracting data/t10k-images-idx3-ubyte.gz\n",
      "Successfully downloaded t10k-labels-idx1-ubyte.gz 4542 bytes.\n",
      "Extracting data/t10k-labels-idx1-ubyte.gz\n",
      "MNIST Loaded\n"
     ]
    }
   ],
   "source": [
    "mnist = input_data.read_data_sets('data/', one_hot=True, source_url='http://yann.lecun.com/exdb/mnist/')\n",
    "\n",
    "print ('MNIST Loaded')"
   ]
  },
  {
   "cell_type": "code",
   "execution_count": 11,
   "metadata": {},
   "outputs": [],
   "source": [
    "trainimg = mnist.train.images\n",
    "trainlabel = mnist.train.labels\n",
    "testimg = mnist.test.images\n",
    "testlabel = mnist.test.labels"
   ]
  },
  {
   "cell_type": "code",
   "execution_count": 16,
   "metadata": {},
   "outputs": [
    {
     "name": "stdout",
     "output_type": "stream",
     "text": [
      "(55000, 784)\n",
      "(55000, 10)\n",
      "(10000, 784)\n",
      "(10000, 10)\n",
      "[0. 0. 0. 0. 0. 0. 0. 1. 0. 0.]\n",
      "[0. 0. 1. 0. 0. 0. 0. 0. 0. 0.]\n"
     ]
    }
   ],
   "source": [
    "print trainimg.shape\n",
    "print trainlabel.shape\n",
    "print testimg.shape\n",
    "print testlabel.shape\n",
    "print testlabel[0]\n",
    "print testlabel[1]"
   ]
  },
  {
   "cell_type": "markdown",
   "metadata": {},
   "source": [
    "**注:** 784 = 28 X 28, 每张图片的像素是 28 X 28的"
   ]
  },
  {
   "cell_type": "code",
   "execution_count": 30,
   "metadata": {},
   "outputs": [],
   "source": [
    "x = tf.placeholder(\"float\",[None, 784])\n",
    "y = tf.placeholder(\"float\",[None, 10])\n",
    "W = tf.Variable(tf.zeros([784,10]))\n",
    "b = tf.Variable(tf.zeros([10]))\n",
    "\n",
    "# logistic regression model\n",
    "actv = tf.nn.softmax(tf.matmul(x, W) + b)\n",
    "# loss 值\n",
    "# -logP\n",
    "loss = tf.reduce_mean(-tf.reduce_sum(y*tf.log(actv), reduction_indices=1))\n",
    "\n",
    "# 使用 梯度下降算法\n",
    "optmizer = tf.train.GradientDescentOptimizer(learning_rate=0.1).minimize(loss)\n",
    "\n",
    "# Prediction\n",
    "pred = tf.equal(tf.argmax(actv, 1), tf.argmax(y, 1))\n",
    "\n",
    "# Accuracy\n",
    "accuracy = tf.reduce_mean(tf.cast(pred, 'float'))\n",
    "\n",
    "init = tf.global_variables_initializer()\n",
    "\n",
    "sess = tf.Session()\n",
    "sess.run(init)"
   ]
  },
  {
   "cell_type": "code",
   "execution_count": 33,
   "metadata": {},
   "outputs": [
    {
     "name": "stdout",
     "output_type": "stream",
     "text": [
      "Epoch   0 of  50 Cost: 1.341450968, train_accuracy: 0.990, test_accuracy: 0.924\n",
      "Epoch   5 of  50 Cost: 1.333685219, train_accuracy: 0.920, test_accuracy: 0.924\n",
      "Epoch  10 of  50 Cost: 1.327828430, train_accuracy: 0.930, test_accuracy: 0.927\n",
      "Epoch  15 of  50 Cost: 1.319190002, train_accuracy: 0.970, test_accuracy: 0.927\n",
      "Epoch  20 of  50 Cost: 1.314768026, train_accuracy: 0.940, test_accuracy: 0.926\n",
      "Epoch  25 of  50 Cost: 1.309353280, train_accuracy: 0.900, test_accuracy: 0.926\n",
      "Epoch  30 of  50 Cost: 1.304415624, train_accuracy: 0.960, test_accuracy: 0.925\n",
      "Epoch  35 of  50 Cost: 1.300048476, train_accuracy: 0.930, test_accuracy: 0.927\n",
      "Epoch  40 of  50 Cost: 1.294976882, train_accuracy: 0.930, test_accuracy: 0.924\n",
      "Epoch  45 of  50 Cost: 1.291634536, train_accuracy: 0.930, test_accuracy: 0.926\n"
     ]
    }
   ],
   "source": [
    "training_epoches = 50\n",
    "batch_size = 100\n",
    "display_step = 5\n",
    "\n",
    "for epoche in range(training_epoches):\n",
    "    avg_loss = 0\n",
    "    num_batches = int(mnist.train.num_examples/batch_size)\n",
    "    for i in range(num_batches):\n",
    "        batch_xs, batch_ys = mnist.train.next_batch(batch_size)\n",
    "        feed = {x:batch_xs, y:batch_ys}\n",
    "        sess.run(optmizer, feed_dict=feed)\n",
    "        avg_loss+= sess.run(loss, feed_dict=feed)/float(batch_size)\n",
    "    \n",
    "    # Display\n",
    "    if epoche % display_step == 0:\n",
    "        feed_train = {x: batch_xs, y:batch_ys}\n",
    "        feed_test = {x: mnist.test.images, y:mnist.test.labels}\n",
    "        \n",
    "        train_accuracy = sess.run(accuracy, feed_dict=feed_train)\n",
    "        test_accuracy = sess.run(accuracy, feed_dict=feed_test)\n",
    "        \n",
    "        print ('Epoch %3d of %3d Cost: %.9f, train_accuracy: %.3f, test_accuracy: %.3f'% \n",
    "               (epoche, training_epoches, avg_loss, train_accuracy, test_accuracy))\n",
    "        "
   ]
  },
  {
   "cell_type": "code",
   "execution_count": null,
   "metadata": {
    "collapsed": true
   },
   "outputs": [],
   "source": []
  }
 ],
 "metadata": {
  "kernelspec": {
   "display_name": "Python 2",
   "language": "python",
   "name": "python2"
  },
  "language_info": {
   "codemirror_mode": {
    "name": "ipython",
    "version": 2
   },
   "file_extension": ".py",
   "mimetype": "text/x-python",
   "name": "python",
   "nbconvert_exporter": "python",
   "pygments_lexer": "ipython2",
   "version": "2.7.13"
  }
 },
 "nbformat": 4,
 "nbformat_minor": 2
}
