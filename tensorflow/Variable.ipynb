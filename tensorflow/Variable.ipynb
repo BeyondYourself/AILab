{
 "cells": [
  {
   "cell_type": "code",
   "execution_count": 3,
   "metadata": {},
   "outputs": [
    {
     "name": "stdout",
     "output_type": "stream",
     "text": [
      "[[29 33 10]\n",
      " [47 54 25]\n",
      " [73 84 41]]\n"
     ]
    }
   ],
   "source": [
    "import tensorflow as tf\n",
    "\n",
    "w = tf.constant([1,3,3,4,5,6], shape=(3,2))\n",
    "x = tf.constant([5,6,7,8,9,1], shape=(2,3))\n",
    "\n",
    "y =  tf.matmul(w, x)\n",
    "\n",
    "# Tensorflow 全用 tf.global_variables_initializer() 方法对所定义的变量 进行初始化 (这点要注意)\n",
    "init_opt = tf.global_variables_initializer()\n",
    "with tf.Session() as sess:\n",
    "    sess.run(init_opt)\n",
    "    print (y.eval())"
   ]
  },
  {
   "cell_type": "code",
   "execution_count": 41,
   "metadata": {},
   "outputs": [
    {
     "name": "stdout",
     "output_type": "stream",
     "text": [
      "Tensor(\"zeros_16:0\", shape=(3, 2), dtype=int32)\n",
      "Tensor(\"ones_12:0\", shape=(3, 2), dtype=int32)\n",
      "Tensor(\"random_normal_9:0\", shape=(3, 2), dtype=float32)\n",
      "Tensor(\"linespace_6:0\", shape=(2,), dtype=float32)\n"
     ]
    }
   ],
   "source": [
    "print tf.zeros((3,2), tf.int32)\n",
    "\n",
    "print tf.ones((3,2), tf.int32)\n",
    "\n",
    "print tf.random_normal(shape=(3,2), mean=-1, stddev=4)\n",
    "\n",
    "print tf.linspace(10.0, 20.0, 2, name=\"linespace\")\n",
    "\n",
    "a = tf.random_shuffle(tf.constant([2,3,4,5,6,7], shape=(3,2)))"
   ]
  },
  {
   "cell_type": "code",
   "execution_count": 37,
   "metadata": {},
   "outputs": [
    {
     "name": "stdout",
     "output_type": "stream",
     "text": [
      "1\n",
      "2\n",
      "3\n"
     ]
    }
   ],
   "source": [
    "a = tf.Variable(0)\n",
    "new_value = tf.add(a, tf.constant(1))\n",
    "update = tf.assign(a, new_value)\n",
    "\n",
    "with tf.Session() as sess:\n",
    "    sess.run(tf.global_variables_initializer())\n",
    "    for _ in range(3):\n",
    "        sess.run(new_value)\n",
    "        sess.run(update)\n",
    "        print a.eval()"
   ]
  },
  {
   "cell_type": "code",
   "execution_count": 45,
   "metadata": {},
   "outputs": [
    {
     "name": "stdout",
     "output_type": "stream",
     "text": [
      "./Test/\n"
     ]
    }
   ],
   "source": [
    "# tf.train.Saver\n",
    "w = tf.constant([1,3,3,4,5,6], shape=(3,2))\n",
    "x = tf.constant([5,6,7,8,9,1], shape=(2,3))\n",
    "\n",
    "y =  tf.matmul(w, x)\n",
    "saver = tf.train.Saver()\n",
    "init = tf.global_variables_initializer()\n",
    "\n",
    "with tf.Session() as sess:\n",
    "    sess.run(init)\n",
    "    sess.run(y)\n",
    "    \n",
    "    \n",
    "    save_path = saver.save(sess, './Test/')\n",
    "    print save_path"
   ]
  },
  {
   "cell_type": "code",
   "execution_count": 49,
   "metadata": {},
   "outputs": [
    {
     "name": "stdout",
     "output_type": "stream",
     "text": [
      "[[1. 1. 1.]\n",
      " [1. 1. 1.]\n",
      " [1. 1. 1.]]\n"
     ]
    }
   ],
   "source": [
    "import numpy as np\n",
    "\n",
    "a = np.ones((3,3))\n",
    "b = tf.convert_to_tensor(a)\n",
    "\n",
    "with tf.Session() as sess:\n",
    "    sess.run(tf.global_variables_initializer())\n",
    "    print sess.run(b)"
   ]
  },
  {
   "cell_type": "markdown",
   "metadata": {},
   "source": [
    "## Tensorflow placeholder 占位符"
   ]
  },
  {
   "cell_type": "code",
   "execution_count": 57,
   "metadata": {},
   "outputs": [
    {
     "name": "stdout",
     "output_type": "stream",
     "text": [
      "7.8\n"
     ]
    }
   ],
   "source": [
    "input1 = tf.placeholder(tf.float32)\n",
    "input2 = tf.placeholder(tf.float32)\n",
    "\n",
    "output = tf.multiply(input1, input2)\n",
    "\n",
    "with tf.Session() as sess:\n",
    "    print sess.run(output, feed_dict={input1:2.0, input2:3.9})"
   ]
  },
  {
   "cell_type": "code",
   "execution_count": null,
   "metadata": {
    "collapsed": true
   },
   "outputs": [],
   "source": [
    ""
   ]
  }
 ],
 "metadata": {
  "kernelspec": {
   "display_name": "Python 2",
   "language": "python",
   "name": "python2"
  },
  "language_info": {
   "codemirror_mode": {
    "name": "ipython",
    "version": 2.0
   },
   "file_extension": ".py",
   "mimetype": "text/x-python",
   "name": "python",
   "nbconvert_exporter": "python",
   "pygments_lexer": "ipython2",
   "version": "2.7.13"
  }
 },
 "nbformat": 4,
 "nbformat_minor": 0
}