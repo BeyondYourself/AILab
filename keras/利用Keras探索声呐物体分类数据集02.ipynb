{
 "cells": [
  {
   "cell_type": "markdown",
   "metadata": {},
   "source": [
    "# 利用Keras探索声呐物体分类数据集02\n",
    "\n",
    "## 目录\n",
    "\n",
    "- [1. 加载数据](#1.-加载数据)\n",
    "- [2. 创建模型](#2.-创建模型)\n",
    "- [3. 使用混淆矩阵来进一步验证](#3.-使用混淆矩阵来进一步验证)"
   ]
  },
  {
   "cell_type": "markdown",
   "metadata": {},
   "source": [
    "# 1. 加载数据"
   ]
  },
  {
   "cell_type": "code",
   "execution_count": 1,
   "metadata": {
    "collapsed": true
   },
   "outputs": [],
   "source": [
    "import pandas as pd\n",
    "import numpy as np"
   ]
  },
  {
   "cell_type": "code",
   "execution_count": 2,
   "metadata": {
    "collapsed": true
   },
   "outputs": [],
   "source": [
    "dataset = pd.read_csv('../data/sonar.csv')"
   ]
  },
  {
   "cell_type": "code",
   "execution_count": 5,
   "metadata": {},
   "outputs": [
    {
     "data": {
      "text/html": [
       "<div>\n",
       "<style>\n",
       "    .dataframe thead tr:only-child th {\n",
       "        text-align: right;\n",
       "    }\n",
       "\n",
       "    .dataframe thead th {\n",
       "        text-align: left;\n",
       "    }\n",
       "\n",
       "    .dataframe tbody tr th {\n",
       "        vertical-align: top;\n",
       "    }\n",
       "</style>\n",
       "<table border=\"1\" class=\"dataframe\">\n",
       "  <thead>\n",
       "    <tr style=\"text-align: right;\">\n",
       "      <th></th>\n",
       "      <th>0.0200</th>\n",
       "      <th>0.0371</th>\n",
       "      <th>0.0428</th>\n",
       "      <th>0.0207</th>\n",
       "      <th>0.0954</th>\n",
       "      <th>0.0986</th>\n",
       "      <th>0.1539</th>\n",
       "      <th>0.1601</th>\n",
       "      <th>0.3109</th>\n",
       "      <th>0.2111</th>\n",
       "      <th>...</th>\n",
       "      <th>0.0027</th>\n",
       "      <th>0.0065</th>\n",
       "      <th>0.0159</th>\n",
       "      <th>0.0072</th>\n",
       "      <th>0.0167</th>\n",
       "      <th>0.0180</th>\n",
       "      <th>0.0084</th>\n",
       "      <th>0.0090</th>\n",
       "      <th>0.0032</th>\n",
       "      <th>R</th>\n",
       "    </tr>\n",
       "  </thead>\n",
       "  <tbody>\n",
       "    <tr>\n",
       "      <th>0</th>\n",
       "      <td>0.0453</td>\n",
       "      <td>0.0523</td>\n",
       "      <td>0.0843</td>\n",
       "      <td>0.0689</td>\n",
       "      <td>0.1183</td>\n",
       "      <td>0.2583</td>\n",
       "      <td>0.2156</td>\n",
       "      <td>0.3481</td>\n",
       "      <td>0.3337</td>\n",
       "      <td>0.2872</td>\n",
       "      <td>...</td>\n",
       "      <td>0.0084</td>\n",
       "      <td>0.0089</td>\n",
       "      <td>0.0048</td>\n",
       "      <td>0.0094</td>\n",
       "      <td>0.0191</td>\n",
       "      <td>0.0140</td>\n",
       "      <td>0.0049</td>\n",
       "      <td>0.0052</td>\n",
       "      <td>0.0044</td>\n",
       "      <td>R</td>\n",
       "    </tr>\n",
       "    <tr>\n",
       "      <th>1</th>\n",
       "      <td>0.0262</td>\n",
       "      <td>0.0582</td>\n",
       "      <td>0.1099</td>\n",
       "      <td>0.1083</td>\n",
       "      <td>0.0974</td>\n",
       "      <td>0.2280</td>\n",
       "      <td>0.2431</td>\n",
       "      <td>0.3771</td>\n",
       "      <td>0.5598</td>\n",
       "      <td>0.6194</td>\n",
       "      <td>...</td>\n",
       "      <td>0.0232</td>\n",
       "      <td>0.0166</td>\n",
       "      <td>0.0095</td>\n",
       "      <td>0.0180</td>\n",
       "      <td>0.0244</td>\n",
       "      <td>0.0316</td>\n",
       "      <td>0.0164</td>\n",
       "      <td>0.0095</td>\n",
       "      <td>0.0078</td>\n",
       "      <td>R</td>\n",
       "    </tr>\n",
       "    <tr>\n",
       "      <th>2</th>\n",
       "      <td>0.0100</td>\n",
       "      <td>0.0171</td>\n",
       "      <td>0.0623</td>\n",
       "      <td>0.0205</td>\n",
       "      <td>0.0205</td>\n",
       "      <td>0.0368</td>\n",
       "      <td>0.1098</td>\n",
       "      <td>0.1276</td>\n",
       "      <td>0.0598</td>\n",
       "      <td>0.1264</td>\n",
       "      <td>...</td>\n",
       "      <td>0.0121</td>\n",
       "      <td>0.0036</td>\n",
       "      <td>0.0150</td>\n",
       "      <td>0.0085</td>\n",
       "      <td>0.0073</td>\n",
       "      <td>0.0050</td>\n",
       "      <td>0.0044</td>\n",
       "      <td>0.0040</td>\n",
       "      <td>0.0117</td>\n",
       "      <td>R</td>\n",
       "    </tr>\n",
       "    <tr>\n",
       "      <th>3</th>\n",
       "      <td>0.0762</td>\n",
       "      <td>0.0666</td>\n",
       "      <td>0.0481</td>\n",
       "      <td>0.0394</td>\n",
       "      <td>0.0590</td>\n",
       "      <td>0.0649</td>\n",
       "      <td>0.1209</td>\n",
       "      <td>0.2467</td>\n",
       "      <td>0.3564</td>\n",
       "      <td>0.4459</td>\n",
       "      <td>...</td>\n",
       "      <td>0.0031</td>\n",
       "      <td>0.0054</td>\n",
       "      <td>0.0105</td>\n",
       "      <td>0.0110</td>\n",
       "      <td>0.0015</td>\n",
       "      <td>0.0072</td>\n",
       "      <td>0.0048</td>\n",
       "      <td>0.0107</td>\n",
       "      <td>0.0094</td>\n",
       "      <td>R</td>\n",
       "    </tr>\n",
       "    <tr>\n",
       "      <th>4</th>\n",
       "      <td>0.0286</td>\n",
       "      <td>0.0453</td>\n",
       "      <td>0.0277</td>\n",
       "      <td>0.0174</td>\n",
       "      <td>0.0384</td>\n",
       "      <td>0.0990</td>\n",
       "      <td>0.1201</td>\n",
       "      <td>0.1833</td>\n",
       "      <td>0.2105</td>\n",
       "      <td>0.3039</td>\n",
       "      <td>...</td>\n",
       "      <td>0.0045</td>\n",
       "      <td>0.0014</td>\n",
       "      <td>0.0038</td>\n",
       "      <td>0.0013</td>\n",
       "      <td>0.0089</td>\n",
       "      <td>0.0057</td>\n",
       "      <td>0.0027</td>\n",
       "      <td>0.0051</td>\n",
       "      <td>0.0062</td>\n",
       "      <td>R</td>\n",
       "    </tr>\n",
       "  </tbody>\n",
       "</table>\n",
       "<p>5 rows × 61 columns</p>\n",
       "</div>"
      ],
      "text/plain": [
       "   0.0200  0.0371  0.0428  0.0207  0.0954  0.0986  0.1539  0.1601  0.3109  \\\n",
       "0  0.0453  0.0523  0.0843  0.0689  0.1183  0.2583  0.2156  0.3481  0.3337   \n",
       "1  0.0262  0.0582  0.1099  0.1083  0.0974  0.2280  0.2431  0.3771  0.5598   \n",
       "2  0.0100  0.0171  0.0623  0.0205  0.0205  0.0368  0.1098  0.1276  0.0598   \n",
       "3  0.0762  0.0666  0.0481  0.0394  0.0590  0.0649  0.1209  0.2467  0.3564   \n",
       "4  0.0286  0.0453  0.0277  0.0174  0.0384  0.0990  0.1201  0.1833  0.2105   \n",
       "\n",
       "   0.2111 ...  0.0027  0.0065  0.0159  0.0072  0.0167  0.0180  0.0084  0.0090  \\\n",
       "0  0.2872 ...  0.0084  0.0089  0.0048  0.0094  0.0191  0.0140  0.0049  0.0052   \n",
       "1  0.6194 ...  0.0232  0.0166  0.0095  0.0180  0.0244  0.0316  0.0164  0.0095   \n",
       "2  0.1264 ...  0.0121  0.0036  0.0150  0.0085  0.0073  0.0050  0.0044  0.0040   \n",
       "3  0.4459 ...  0.0031  0.0054  0.0105  0.0110  0.0015  0.0072  0.0048  0.0107   \n",
       "4  0.3039 ...  0.0045  0.0014  0.0038  0.0013  0.0089  0.0057  0.0027  0.0051   \n",
       "\n",
       "   0.0032  R  \n",
       "0  0.0044  R  \n",
       "1  0.0078  R  \n",
       "2  0.0117  R  \n",
       "3  0.0094  R  \n",
       "4  0.0062  R  \n",
       "\n",
       "[5 rows x 61 columns]"
      ]
     },
     "execution_count": 5,
     "metadata": {},
     "output_type": "execute_result"
    }
   ],
   "source": [
    "dataset.head()"
   ]
  },
  {
   "cell_type": "markdown",
   "metadata": {},
   "source": [
    "# 2. 创建模型"
   ]
  },
  {
   "cell_type": "code",
   "execution_count": 6,
   "metadata": {
    "collapsed": true
   },
   "outputs": [],
   "source": [
    "X = dataset.iloc[:,0:60]\n",
    "y = dataset.iloc[:,60]"
   ]
  },
  {
   "cell_type": "code",
   "execution_count": 59,
   "metadata": {
    "collapsed": true
   },
   "outputs": [],
   "source": [
    "from keras.models import Sequential\n",
    "from keras.layers import Dense\n",
    "from sklearn.preprocessing import LabelEncoder\n",
    "from sklearn.cross_validation import train_test_split\n",
    "\n",
    "# seed = 60\n",
    "# np.random.seed(seed)\n",
    "\n",
    "encoder = LabelEncoder()\n",
    "y1 = encoder.fit_transform(y)\n",
    "Y = pd.get_dummies(y1).values\n",
    "\n",
    "X_train, X_test, y_train, y_test = train_test_split(X, Y, test_size=0.2)"
   ]
  },
  {
   "cell_type": "code",
   "execution_count": 54,
   "metadata": {},
   "outputs": [
    {
     "name": "stdout",
     "output_type": "stream",
     "text": [
      "_________________________________________________________________\n",
      "Layer (type)                 Output Shape              Param #   \n",
      "=================================================================\n",
      "dense_31 (Dense)             (None, 100)               6100      \n",
      "_________________________________________________________________\n",
      "dense_32 (Dense)             (None, 30)                3030      \n",
      "_________________________________________________________________\n",
      "dense_33 (Dense)             (None, 2)                 62        \n",
      "=================================================================\n",
      "Total params: 9,192\n",
      "Trainable params: 9,192\n",
      "Non-trainable params: 0\n",
      "_________________________________________________________________\n",
      "None\n"
     ]
    }
   ],
   "source": [
    "model = Sequential()\n",
    "model.add(Dense(100, input_shape=(60,), activation='relu'))\n",
    "model.add(Dense(30, activation='relu'))\n",
    "model.add(Dense(2, activation='sigmoid'))\n",
    "\n",
    "model.compile(loss='categorical_crossentropy', optimizer='adam', metrics=['accuracy'])\n",
    "\n",
    "print model.summary()"
   ]
  },
  {
   "cell_type": "code",
   "execution_count": 55,
   "metadata": {},
   "outputs": [
    {
     "name": "stdout",
     "output_type": "stream",
     "text": [
      "Epoch 1/50\n",
      "165/165 [==============================] - 0s 2ms/step - loss: 0.6822 - acc: 0.5455\n",
      "Epoch 2/50\n",
      "165/165 [==============================] - 0s 89us/step - loss: 0.6567 - acc: 0.5576\n",
      "Epoch 3/50\n",
      "165/165 [==============================] - 0s 79us/step - loss: 0.6388 - acc: 0.6303\n",
      "Epoch 4/50\n",
      "165/165 [==============================] - 0s 96us/step - loss: 0.6201 - acc: 0.6970\n",
      "Epoch 5/50\n",
      "165/165 [==============================] - 0s 87us/step - loss: 0.5982 - acc: 0.7273\n",
      "Epoch 6/50\n",
      "165/165 [==============================] - 0s 112us/step - loss: 0.5745 - acc: 0.7152\n",
      "Epoch 7/50\n",
      "165/165 [==============================] - 0s 106us/step - loss: 0.5503 - acc: 0.7455\n",
      "Epoch 8/50\n",
      "165/165 [==============================] - 0s 101us/step - loss: 0.5200 - acc: 0.7576\n",
      "Epoch 9/50\n",
      "165/165 [==============================] - 0s 110us/step - loss: 0.5151 - acc: 0.7212\n",
      "Epoch 10/50\n",
      "165/165 [==============================] - 0s 106us/step - loss: 0.4769 - acc: 0.7697\n",
      "Epoch 11/50\n",
      "165/165 [==============================] - 0s 103us/step - loss: 0.4538 - acc: 0.7939\n",
      "Epoch 12/50\n",
      "165/165 [==============================] - 0s 102us/step - loss: 0.4728 - acc: 0.8182\n",
      "Epoch 13/50\n",
      "165/165 [==============================] - 0s 112us/step - loss: 0.4350 - acc: 0.7818\n",
      "Epoch 14/50\n",
      "165/165 [==============================] - 0s 100us/step - loss: 0.4212 - acc: 0.8182\n",
      "Epoch 15/50\n",
      "165/165 [==============================] - 0s 101us/step - loss: 0.3978 - acc: 0.8303\n",
      "Epoch 16/50\n",
      "165/165 [==============================] - 0s 84us/step - loss: 0.3891 - acc: 0.8364\n",
      "Epoch 17/50\n",
      "165/165 [==============================] - 0s 97us/step - loss: 0.3796 - acc: 0.8303\n",
      "Epoch 18/50\n",
      "165/165 [==============================] - 0s 86us/step - loss: 0.3733 - acc: 0.8242\n",
      "Epoch 19/50\n",
      "165/165 [==============================] - 0s 105us/step - loss: 0.3673 - acc: 0.8424\n",
      "Epoch 20/50\n",
      "165/165 [==============================] - 0s 116us/step - loss: 0.3703 - acc: 0.8424\n",
      "Epoch 21/50\n",
      "165/165 [==============================] - 0s 104us/step - loss: 0.3629 - acc: 0.8303\n",
      "Epoch 22/50\n",
      "165/165 [==============================] - 0s 102us/step - loss: 0.3415 - acc: 0.8727\n",
      "Epoch 23/50\n",
      "165/165 [==============================] - 0s 85us/step - loss: 0.3452 - acc: 0.8606\n",
      "Epoch 24/50\n",
      "165/165 [==============================] - 0s 97us/step - loss: 0.3309 - acc: 0.8485\n",
      "Epoch 25/50\n",
      "165/165 [==============================] - 0s 82us/step - loss: 0.3284 - acc: 0.8485\n",
      "Epoch 26/50\n",
      "165/165 [==============================] - 0s 101us/step - loss: 0.3311 - acc: 0.8667\n",
      "Epoch 27/50\n",
      "165/165 [==============================] - 0s 103us/step - loss: 0.3105 - acc: 0.8848\n",
      "Epoch 28/50\n",
      "165/165 [==============================] - 0s 93us/step - loss: 0.3137 - acc: 0.8788\n",
      "Epoch 29/50\n",
      "165/165 [==============================] - 0s 77us/step - loss: 0.3223 - acc: 0.8545\n",
      "Epoch 30/50\n",
      "165/165 [==============================] - 0s 98us/step - loss: 0.2871 - acc: 0.8848\n",
      "Epoch 31/50\n",
      "165/165 [==============================] - 0s 105us/step - loss: 0.2887 - acc: 0.8848\n",
      "Epoch 32/50\n",
      "165/165 [==============================] - 0s 94us/step - loss: 0.2724 - acc: 0.8970\n",
      "Epoch 33/50\n",
      "165/165 [==============================] - 0s 80us/step - loss: 0.2920 - acc: 0.8667\n",
      "Epoch 34/50\n",
      "165/165 [==============================] - ETA: 0s - loss: 0.1849 - acc: 0.900 - 0s 91us/step - loss: 0.2619 - acc: 0.8909\n",
      "Epoch 35/50\n",
      "165/165 [==============================] - 0s 104us/step - loss: 0.2651 - acc: 0.9030\n",
      "Epoch 36/50\n",
      "165/165 [==============================] - 0s 92us/step - loss: 0.2527 - acc: 0.9091\n",
      "Epoch 37/50\n",
      "165/165 [==============================] - 0s 74us/step - loss: 0.2492 - acc: 0.9212\n",
      "Epoch 38/50\n",
      "165/165 [==============================] - 0s 103us/step - loss: 0.2413 - acc: 0.9091\n",
      "Epoch 39/50\n",
      "165/165 [==============================] - 0s 102us/step - loss: 0.2519 - acc: 0.8909\n",
      "Epoch 40/50\n",
      "165/165 [==============================] - 0s 76us/step - loss: 0.2286 - acc: 0.9212\n",
      "Epoch 41/50\n",
      "165/165 [==============================] - 0s 93us/step - loss: 0.2341 - acc: 0.8970\n",
      "Epoch 42/50\n",
      "165/165 [==============================] - 0s 107us/step - loss: 0.2233 - acc: 0.9152\n",
      "Epoch 43/50\n",
      "165/165 [==============================] - 0s 75us/step - loss: 0.2219 - acc: 0.9273\n",
      "Epoch 44/50\n",
      "165/165 [==============================] - 0s 87us/step - loss: 0.2209 - acc: 0.9212\n",
      "Epoch 45/50\n",
      "165/165 [==============================] - 0s 88us/step - loss: 0.2117 - acc: 0.9394\n",
      "Epoch 46/50\n",
      "165/165 [==============================] - 0s 92us/step - loss: 0.2071 - acc: 0.9152\n",
      "Epoch 47/50\n",
      "165/165 [==============================] - 0s 87us/step - loss: 0.1961 - acc: 0.9394\n",
      "Epoch 48/50\n",
      "165/165 [==============================] - 0s 76us/step - loss: 0.2127 - acc: 0.9273\n",
      "Epoch 49/50\n",
      "165/165 [==============================] - 0s 90us/step - loss: 0.1891 - acc: 0.9515\n",
      "Epoch 50/50\n",
      "165/165 [==============================] - 0s 72us/step - loss: 0.1796 - acc: 0.9636\n"
     ]
    },
    {
     "data": {
      "text/plain": [
       "<keras.callbacks.History at 0x11d88af50>"
      ]
     },
     "execution_count": 55,
     "metadata": {},
     "output_type": "execute_result"
    }
   ],
   "source": [
    "model.fit(X_train, y_train, epochs=50, batch_size=20, verbose=1)"
   ]
  },
  {
   "cell_type": "code",
   "execution_count": 63,
   "metadata": {},
   "outputs": [
    {
     "name": "stdout",
     "output_type": "stream",
     "text": [
      " 0.03981658\n"
     ]
    }
   ],
   "source": [
    "y_pred = model.predict(X_test)\n",
    "print y_pred.mean()"
   ]
  },
  {
   "cell_type": "code",
   "execution_count": 65,
   "metadata": {},
   "outputs": [
    {
     "name": "stdout",
     "output_type": "stream",
     "text": [
      "[1 0 0 1 1 0 1 1 1 1 0 0 1 0 1 1 0 0 0 0 1 0 1 1 0 0 0 1 1 1 0 1 0 1 0 0 0\n",
      " 0 1 1 0 0]\n",
      "[1 0 0 0 1 0 1 1 1 1 0 0 1 0 1 1 1 0 0 0 1 0 1 1 0 0 0 1 1 1 0 1 0 1 0 0 0\n",
      " 0 1 1 0 0]\n"
     ]
    }
   ],
   "source": [
    "y_test_class = np.argmax(y_test, axis=1)\n",
    "y_pred_class = np.argmax(y_pred, axis=1)\n",
    "print y_test_class\n",
    "print y_pred_class"
   ]
  },
  {
   "cell_type": "markdown",
   "metadata": {},
   "source": [
    "# 3. 使用混淆矩阵来进一步验证"
   ]
  },
  {
   "cell_type": "code",
   "execution_count": 84,
   "metadata": {},
   "outputs": [
    {
     "name": "stdout",
     "output_type": "stream",
     "text": [
      "             precision    recall  f1-score   support\n",
      "\n",
      "          R       0.95      0.95      0.95        22\n",
      "          M       0.95      0.95      0.95        20\n",
      "\n",
      "avg / total       0.95      0.95      0.95        42\n",
      "\n",
      "[[21  1]\n",
      " [ 1 19]]\n",
      "Accuracy is: 95.24 %\n"
     ]
    }
   ],
   "source": [
    "from sklearn.metrics import accuracy_score, confusion_matrix, classification_report\n",
    "\n",
    "print classification_report(y_test_class, y_pred_class, target_names=['R', 'M'])\n",
    "print confusion_matrix(y_test_class, y_pred_class)\n",
    "\n",
    "acct = accuracy_score(y_test_class, y_pred_class)\n",
    "print 'Accuracy is: %.2f %%' % ( acct * 100)"
   ]
  },
  {
   "cell_type": "code",
   "execution_count": 91,
   "metadata": {},
   "outputs": [
    {
     "name": "stdout",
     "output_type": "stream",
     "text": [
      "_________________________________________________________________\n",
      "Layer (type)                 Output Shape              Param #   \n",
      "=================================================================\n",
      "dense_41 (Dense)             (None, 100)               6100      \n",
      "_________________________________________________________________\n",
      "dropout_5 (Dropout)          (None, 100)               0         \n",
      "_________________________________________________________________\n",
      "dense_42 (Dense)             (None, 30)                3030      \n",
      "_________________________________________________________________\n",
      "dropout_6 (Dropout)          (None, 30)                0         \n",
      "_________________________________________________________________\n",
      "dense_43 (Dense)             (None, 2)                 62        \n",
      "=================================================================\n",
      "Total params: 9,192\n",
      "Trainable params: 9,192\n",
      "Non-trainable params: 0\n",
      "_________________________________________________________________\n",
      "None\n"
     ]
    },
    {
     "name": "stderr",
     "output_type": "stream",
     "text": [
      "/Users/yongliu/anaconda/lib/python2.7/site-packages/ipykernel_launcher.py:6: UserWarning: Update your `Dense` call to the Keras 2 API: `Dense(100, activation=\"relu\", input_shape=(60,), kernel_constraint=<keras.con...)`\n",
      "  \n",
      "/Users/yongliu/anaconda/lib/python2.7/site-packages/ipykernel_launcher.py:8: UserWarning: Update your `Dense` call to the Keras 2 API: `Dense(30, activation=\"relu\", kernel_constraint=<keras.con...)`\n",
      "  \n"
     ]
    }
   ],
   "source": [
    "from keras.layers import Dropout\n",
    "from keras.constraints import maxnorm\n",
    "from keras.optimizers import Adam\n",
    "\n",
    "model = Sequential()\n",
    "model.add(Dense(100, input_shape=(60,), activation='relu', W_constraint=maxnorm(3)))\n",
    "model.add(Dropout(0.2))\n",
    "model.add(Dense(30, activation='relu', W_constraint=maxnorm(3)))\n",
    "model.add(Dropout(0.2))\n",
    "model.add(Dense(2, activation='sigmoid'))\n",
    "\n",
    "adam = Adam(lr=0.1)\n",
    "model.compile(loss='categorical_crossentropy', optimizer=adam, metrics=['accuracy'])\n",
    "\n",
    "print model.summary()"
   ]
  },
  {
   "cell_type": "code",
   "execution_count": 92,
   "metadata": {},
   "outputs": [
    {
     "name": "stdout",
     "output_type": "stream",
     "text": [
      "Epoch 1/50\n",
      "165/165 [==============================] - 0s 3ms/step - loss: 1.0228 - acc: 0.5152\n",
      "Epoch 2/50\n",
      "165/165 [==============================] - 0s 100us/step - loss: 0.6931 - acc: 0.5394\n",
      "Epoch 3/50\n",
      "165/165 [==============================] - 0s 103us/step - loss: 0.6931 - acc: 0.5394\n",
      "Epoch 4/50\n",
      "165/165 [==============================] - 0s 115us/step - loss: 0.6931 - acc: 0.5394\n",
      "Epoch 5/50\n",
      "165/165 [==============================] - 0s 114us/step - loss: 0.6931 - acc: 0.5394\n",
      "Epoch 6/50\n",
      "165/165 [==============================] - 0s 117us/step - loss: 0.6931 - acc: 0.5394\n",
      "Epoch 7/50\n",
      "165/165 [==============================] - 0s 93us/step - loss: 0.6931 - acc: 0.5394\n",
      "Epoch 8/50\n",
      "165/165 [==============================] - 0s 115us/step - loss: 0.6931 - acc: 0.5394\n",
      "Epoch 9/50\n",
      "165/165 [==============================] - 0s 118us/step - loss: 0.6931 - acc: 0.5394\n",
      "Epoch 10/50\n",
      "165/165 [==============================] - 0s 98us/step - loss: 0.6931 - acc: 0.5394\n",
      "Epoch 11/50\n",
      "165/165 [==============================] - 0s 114us/step - loss: 0.6931 - acc: 0.5394\n",
      "Epoch 12/50\n",
      "165/165 [==============================] - 0s 116us/step - loss: 0.6931 - acc: 0.5394\n",
      "Epoch 13/50\n",
      "165/165 [==============================] - 0s 116us/step - loss: 0.6931 - acc: 0.5394\n",
      "Epoch 14/50\n",
      "165/165 [==============================] - 0s 93us/step - loss: 0.6931 - acc: 0.5394\n",
      "Epoch 15/50\n",
      "165/165 [==============================] - 0s 122us/step - loss: 0.6931 - acc: 0.5394\n",
      "Epoch 16/50\n",
      "165/165 [==============================] - 0s 107us/step - loss: 0.6931 - acc: 0.5394\n",
      "Epoch 17/50\n",
      "165/165 [==============================] - 0s 99us/step - loss: 0.6931 - acc: 0.5394\n",
      "Epoch 18/50\n",
      "165/165 [==============================] - 0s 116us/step - loss: 0.6931 - acc: 0.5394\n",
      "Epoch 19/50\n",
      "165/165 [==============================] - 0s 115us/step - loss: 0.6931 - acc: 0.5394\n",
      "Epoch 20/50\n",
      "165/165 [==============================] - 0s 91us/step - loss: 0.6931 - acc: 0.5394\n",
      "Epoch 21/50\n",
      "165/165 [==============================] - 0s 117us/step - loss: 0.6931 - acc: 0.5394\n",
      "Epoch 22/50\n",
      "165/165 [==============================] - 0s 110us/step - loss: 0.6931 - acc: 0.5394\n",
      "Epoch 23/50\n",
      "165/165 [==============================] - 0s 105us/step - loss: 0.6931 - acc: 0.5394\n",
      "Epoch 24/50\n",
      "165/165 [==============================] - 0s 108us/step - loss: 0.6931 - acc: 0.5394\n",
      "Epoch 25/50\n",
      "165/165 [==============================] - 0s 96us/step - loss: 0.6931 - acc: 0.5394\n",
      "Epoch 26/50\n",
      "165/165 [==============================] - 0s 112us/step - loss: 0.6931 - acc: 0.5394\n",
      "Epoch 27/50\n",
      "165/165 [==============================] - 0s 101us/step - loss: 0.6931 - acc: 0.5394\n",
      "Epoch 28/50\n",
      "165/165 [==============================] - 0s 96us/step - loss: 0.6931 - acc: 0.5394\n",
      "Epoch 29/50\n",
      "165/165 [==============================] - 0s 112us/step - loss: 0.6931 - acc: 0.5394\n",
      "Epoch 30/50\n",
      "165/165 [==============================] - 0s 93us/step - loss: 0.6931 - acc: 0.5394\n",
      "Epoch 31/50\n",
      "165/165 [==============================] - 0s 97us/step - loss: 0.6931 - acc: 0.5394\n",
      "Epoch 32/50\n",
      "165/165 [==============================] - 0s 116us/step - loss: 0.6931 - acc: 0.5394\n",
      "Epoch 33/50\n",
      "165/165 [==============================] - 0s 90us/step - loss: 0.6931 - acc: 0.5394\n",
      "Epoch 34/50\n",
      "165/165 [==============================] - 0s 105us/step - loss: 0.6931 - acc: 0.5394\n",
      "Epoch 35/50\n",
      "165/165 [==============================] - 0s 104us/step - loss: 0.6931 - acc: 0.5394\n",
      "Epoch 36/50\n",
      "165/165 [==============================] - 0s 98us/step - loss: 0.6931 - acc: 0.5394\n",
      "Epoch 37/50\n",
      "165/165 [==============================] - 0s 102us/step - loss: 0.6931 - acc: 0.5394\n",
      "Epoch 38/50\n",
      "165/165 [==============================] - 0s 114us/step - loss: 0.6931 - acc: 0.5394\n",
      "Epoch 39/50\n",
      "165/165 [==============================] - 0s 102us/step - loss: 0.6931 - acc: 0.5394\n",
      "Epoch 40/50\n",
      "165/165 [==============================] - 0s 101us/step - loss: 0.6931 - acc: 0.5394\n",
      "Epoch 41/50\n",
      "165/165 [==============================] - 0s 98us/step - loss: 0.6931 - acc: 0.5394\n",
      "Epoch 42/50\n",
      "165/165 [==============================] - 0s 104us/step - loss: 0.6931 - acc: 0.5394\n",
      "Epoch 43/50\n",
      "165/165 [==============================] - 0s 92us/step - loss: 0.6931 - acc: 0.5394\n",
      "Epoch 44/50\n",
      "165/165 [==============================] - 0s 103us/step - loss: 0.6931 - acc: 0.5394\n",
      "Epoch 45/50\n",
      "165/165 [==============================] - 0s 97us/step - loss: 0.6931 - acc: 0.5394\n",
      "Epoch 46/50\n",
      "165/165 [==============================] - 0s 90us/step - loss: 0.6931 - acc: 0.5394\n",
      "Epoch 47/50\n",
      "165/165 [==============================] - 0s 99us/step - loss: 0.6931 - acc: 0.5394\n",
      "Epoch 48/50\n",
      "165/165 [==============================] - 0s 82us/step - loss: 0.6931 - acc: 0.5394\n",
      "Epoch 49/50\n",
      "165/165 [==============================] - 0s 92us/step - loss: 0.6931 - acc: 0.5394\n",
      "Epoch 50/50\n",
      "165/165 [==============================] - 0s 80us/step - loss: 0.6931 - acc: 0.5394\n",
      "1.0\n",
      "Accuracy is: 95.24 %\n"
     ]
    }
   ],
   "source": [
    "model.fit(X_train, y_train, epochs=50, batch_size=20, verbose=1)\n",
    "y_pred = model.predict(X_test)\n",
    "print y_pred.mean()\n",
    "acct = accuracy_score(y_test_class, y_pred_class)\n",
    "print 'Accuracy is: %.2f %%' % ( acct * 100)"
   ]
  },
  {
   "cell_type": "code",
   "execution_count": null,
   "metadata": {
    "collapsed": true
   },
   "outputs": [],
   "source": []
  }
 ],
 "metadata": {
  "kernelspec": {
   "display_name": "Python 2",
   "language": "python",
   "name": "python2"
  },
  "language_info": {
   "codemirror_mode": {
    "name": "ipython",
    "version": 2
   },
   "file_extension": ".py",
   "mimetype": "text/x-python",
   "name": "python",
   "nbconvert_exporter": "python",
   "pygments_lexer": "ipython2",
   "version": "2.7.13"
  }
 },
 "nbformat": 4,
 "nbformat_minor": 2
}
